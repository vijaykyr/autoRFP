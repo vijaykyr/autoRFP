{
 "cells": [
  {
   "cell_type": "code",
   "execution_count": 1,
   "metadata": {
    "collapsed": true
   },
   "outputs": [],
   "source": [
    "#housekeeping\n",
    "import logging\n",
    "logging.basicConfig(format='%(asctime)s : %(levelname)s : %(message)s', level=logging.INFO)"
   ]
  },
  {
   "cell_type": "markdown",
   "metadata": {},
   "source": [
    "# Objective\n",
    "\n",
    "Given a set of ~5000 RFI questions collected from past RFIs, we will implement a question \"similarity search\"\n",
    "\n",
    "A user will be able to input an RFI question in it's natural form and this program will return historical RFI questions that are most similar to that.\n",
    "\n",
    "Since the historical questions have already been answered, this tools provides the potential to programatically fill in portions of an RFI!\n",
    "\n",
    "**Credit:** parts of this code are taken from https://radimrehurek.com/gensim/tutorial.html\n",
    "\n",
    "**Python modules used:** pandas, nltk and gensim. They can be installed using pip\n"
   ]
  },
  {
   "cell_type": "markdown",
   "metadata": {},
   "source": [
    "## Part 1: Meet the data\n",
    "\n",
    "We start with a raw csv file of historical RFI questions.\n",
    "\n",
    "We'll load it into a pandas dataframe which is a good framework for visualizing tabular data"
   ]
  },
  {
   "cell_type": "code",
   "execution_count": 2,
   "metadata": {
    "collapsed": false
   },
   "outputs": [
    {
     "name": "stdout",
     "output_type": "stream",
     "text": [
      "Total number of questions: 4927\n"
     ]
    },
    {
     "data": {
      "text/html": [
       "<div>\n",
       "<table border=\"1\" class=\"dataframe\">\n",
       "  <thead>\n",
       "    <tr style=\"text-align: right;\">\n",
       "      <th></th>\n",
       "      <th>id</th>\n",
       "      <th>category</th>\n",
       "      <th>question</th>\n",
       "      <th>answer</th>\n",
       "      <th>origin</th>\n",
       "      <th>date</th>\n",
       "      <th>url</th>\n",
       "    </tr>\n",
       "  </thead>\n",
       "  <tbody>\n",
       "    <tr>\n",
       "      <th>0</th>\n",
       "      <td>1</td>\n",
       "      <td>NaN</td>\n",
       "      <td>Does your company (you) have an Information Security Policy document that is approved by management and published and communicated to all employees, contractors, temporary personnel, and relevant external parties?</td>\n",
       "      <td>Yes, Google is committed to the security of all information stored on its computer systems. This commitment is regularly reinforced by management and is outlined in the Google Code of Conduct, which is posted on Google’s website at https://abc.xyz/investor/other/code-of-conduct.html Google’s Security Philosophy is also outlined at the following page: http://www.google.com/intl/en/corporate/security.html.\\nThe foundation of Google’s commitment to security is its set of security policies that cover physical, network and computer systems, applications services, systems services, account, data, data center security, corporate services, change management, and incident response. These policies are reviewed on a regular basis by Google's executive team to help ensure their continued effectiveness and accuracy.\\nIn addition to these security policies, with which all persons employed by Google must comply, Google has a dedicated Security Team, which has responsibility for a security program that includes awareness raising, internal advocacy, training, strategic reviews, reviews and compliance audits. Google also requires that all third-party contractors comply with these security policies as well.</td>\n",
       "      <td>McKesson</td>\n",
       "      <td>2016-07-15</td>\n",
       "      <td>https://docs.google.com/a/google.com/document/d/1YLVFPVFxmKXrpy4C96EqfFLR-RHIW0w0Ke8w8X5qquI/edit?usp=sharing</td>\n",
       "    </tr>\n",
       "    <tr>\n",
       "      <th>1</th>\n",
       "      <td>2</td>\n",
       "      <td>NaN</td>\n",
       "      <td>If “yes,” then please provide a copy.</td>\n",
       "      <td>Google does not provide a copy of the security policy to customers.</td>\n",
       "      <td>McKesson</td>\n",
       "      <td>2016-07-15</td>\n",
       "      <td>https://docs.google.com/a/google.com/document/d/1YLVFPVFxmKXrpy4C96EqfFLR-RHIW0w0Ke8w8X5qquI/edit?usp=sharing</td>\n",
       "    </tr>\n",
       "    <tr>\n",
       "      <th>2</th>\n",
       "      <td>3</td>\n",
       "      <td>NaN</td>\n",
       "      <td>Are your Information Security Policies based upon a standard framework or set of regulatory requirements (e.g. ISO27001 or NIST)?</td>\n",
       "      <td>There are elements of NIST 800 in our practices and we are certified against ISO 27001. We are also PCI DSS 3.0 certified, the 3.1 audit is underway and will be completed this quarter. We have just certified against ISO 27017 and ISO 27081 relating to cloud security and privacy. These standards serve us well with our global customer base.</td>\n",
       "      <td>McKesson</td>\n",
       "      <td>2016-07-15</td>\n",
       "      <td>https://docs.google.com/a/google.com/document/d/1YLVFPVFxmKXrpy4C96EqfFLR-RHIW0w0Ke8w8X5qquI/edit?usp=sharing</td>\n",
       "    </tr>\n",
       "    <tr>\n",
       "      <th>3</th>\n",
       "      <td>4</td>\n",
       "      <td>NaN</td>\n",
       "      <td>Security Roles. How are the security roles and responsibilities of employees, contractors, temporary personnel, and third party users of your company’s information systems defined and documented in accordance with your Information Security Policy?</td>\n",
       "      <td>Google develops, disseminates, and regularly reviews formal, documented information and asset security policies that address purpose, scope, roles, and responsibilities.</td>\n",
       "      <td>McKesson</td>\n",
       "      <td>2016-07-15</td>\n",
       "      <td>https://docs.google.com/a/google.com/document/d/1YLVFPVFxmKXrpy4C96EqfFLR-RHIW0w0Ke8w8X5qquI/edit?usp=sharing</td>\n",
       "    </tr>\n",
       "    <tr>\n",
       "      <th>4</th>\n",
       "      <td>5</td>\n",
       "      <td>NaN</td>\n",
       "      <td>Security Breach. What is your policy, procedure and escalation process in event of a security breach/incident?</td>\n",
       "      <td>Google has an incident management process for security events that may affect the confidentiality, integrity, or availability of its systems or data. This process specifies courses of action, procedures for notification, escalation, mitigation, and documentation. To help ensure the swift resolution of security incidents, the Google information security team is available 24x7 to all Google employees.In addition, Google proactively searches for security incidents on an ongoing basis, by actively reviewing inbound security reports, monitoring public mailing lists and blog posts, and tracking automated perimeter systems. When an information security incident occurs, Google’s security staff responds promptly in a manner commensurate with the threat level. Notification of the incident may be generated automatically by Google’s monitoring systems or manually by a Google employee.Google works closely with the security community to track reported issues in Google services and open source tools.</td>\n",
       "      <td>McKesson</td>\n",
       "      <td>2016-07-15</td>\n",
       "      <td>https://docs.google.com/a/google.com/document/d/1YLVFPVFxmKXrpy4C96EqfFLR-RHIW0w0Ke8w8X5qquI/edit?usp=sharing</td>\n",
       "    </tr>\n",
       "  </tbody>\n",
       "</table>\n",
       "</div>"
      ],
      "text/plain": [
       "   id category  \\\n",
       "0  1   NaN       \n",
       "1  2   NaN       \n",
       "2  3   NaN       \n",
       "3  4   NaN       \n",
       "4  5   NaN       \n",
       "\n",
       "                                                                                                                                                                                                                                                  question  \\\n",
       "0  Does your company (you) have an Information Security Policy document that is approved by management and published and communicated to all employees, contractors, temporary personnel, and relevant external parties?                                     \n",
       "1  If “yes,” then please provide a copy.                                                                                                                                                                                                                     \n",
       "2  Are your Information Security Policies based upon a standard framework or set of regulatory requirements (e.g. ISO27001 or NIST)?                                                                                                                         \n",
       "3  Security Roles. How are the security roles and responsibilities of employees, contractors, temporary personnel, and third party users of your company’s information systems defined and documented in accordance with your Information Security Policy?   \n",
       "4  Security Breach. What is your policy, procedure and escalation process in event of a security breach/incident?                                                                                                                                            \n",
       "\n",
       "                                                                                                                                                                                                                                                                                                                                                                                                                                                                                                                                                                                                                                                                                                                                                                                                                                                                                                                                                                                                                                                                                                                                                                                                                                                    answer  \\\n",
       "0  Yes, Google is committed to the security of all information stored on its computer systems. This commitment is regularly reinforced by management and is outlined in the Google Code of Conduct, which is posted on Google’s website at https://abc.xyz/investor/other/code-of-conduct.html Google’s Security Philosophy is also outlined at the following page: http://www.google.com/intl/en/corporate/security.html.\\nThe foundation of Google’s commitment to security is its set of security policies that cover physical, network and computer systems, applications services, systems services, account, data, data center security, corporate services, change management, and incident response. These policies are reviewed on a regular basis by Google's executive team to help ensure their continued effectiveness and accuracy.\\nIn addition to these security policies, with which all persons employed by Google must comply, Google has a dedicated Security Team, which has responsibility for a security program that includes awareness raising, internal advocacy, training, strategic reviews, reviews and compliance audits. Google also requires that all third-party contractors comply with these security policies as well.   \n",
       "1  Google does not provide a copy of the security policy to customers.                                                                                                                                                                                                                                                                                                                                                                                                                                                                                                                                                                                                                                                                                                                                                                                                                                                                                                                                                                                                                                                                                                                                                                                       \n",
       "2  There are elements of NIST 800 in our practices and we are certified against ISO 27001. We are also PCI DSS 3.0 certified, the 3.1 audit is underway and will be completed this quarter. We have just certified against ISO 27017 and ISO 27081 relating to cloud security and privacy. These standards serve us well with our global customer base.                                                                                                                                                                                                                                                                                                                                                                                                                                                                                                                                                                                                                                                                                                                                                                                                                                                                                                      \n",
       "3  Google develops, disseminates, and regularly reviews formal, documented information and asset security policies that address purpose, scope, roles, and responsibilities.                                                                                                                                                                                                                                                                                                                                                                                                                                                                                                                                                                                                                                                                                                                                                                                                                                                                                                                                                                                                                                                                                 \n",
       "4  Google has an incident management process for security events that may affect the confidentiality, integrity, or availability of its systems or data. This process specifies courses of action, procedures for notification, escalation, mitigation, and documentation. To help ensure the swift resolution of security incidents, the Google information security team is available 24x7 to all Google employees.In addition, Google proactively searches for security incidents on an ongoing basis, by actively reviewing inbound security reports, monitoring public mailing lists and blog posts, and tracking automated perimeter systems. When an information security incident occurs, Google’s security staff responds promptly in a manner commensurate with the threat level. Notification of the incident may be generated automatically by Google’s monitoring systems or manually by a Google employee.Google works closely with the security community to track reported issues in Google services and open source tools.                                                                                                                                                                                                                  \n",
       "\n",
       "     origin        date  \\\n",
       "0  McKesson  2016-07-15   \n",
       "1  McKesson  2016-07-15   \n",
       "2  McKesson  2016-07-15   \n",
       "3  McKesson  2016-07-15   \n",
       "4  McKesson  2016-07-15   \n",
       "\n",
       "                                                                                                             url  \n",
       "0  https://docs.google.com/a/google.com/document/d/1YLVFPVFxmKXrpy4C96EqfFLR-RHIW0w0Ke8w8X5qquI/edit?usp=sharing  \n",
       "1  https://docs.google.com/a/google.com/document/d/1YLVFPVFxmKXrpy4C96EqfFLR-RHIW0w0Ke8w8X5qquI/edit?usp=sharing  \n",
       "2  https://docs.google.com/a/google.com/document/d/1YLVFPVFxmKXrpy4C96EqfFLR-RHIW0w0Ke8w8X5qquI/edit?usp=sharing  \n",
       "3  https://docs.google.com/a/google.com/document/d/1YLVFPVFxmKXrpy4C96EqfFLR-RHIW0w0Ke8w8X5qquI/edit?usp=sharing  \n",
       "4  https://docs.google.com/a/google.com/document/d/1YLVFPVFxmKXrpy4C96EqfFLR-RHIW0w0Ke8w8X5qquI/edit?usp=sharing  "
      ]
     },
     "metadata": {},
     "output_type": "display_data"
    }
   ],
   "source": [
    "from IPython.display import display\n",
    "import pandas as pd\n",
    "\n",
    "pd.set_option('display.max_colwidth', -1)\n",
    "\n",
    "data = pd.read_csv('RFX01-10172016.csv') #Pandas DataFrame\n",
    "#Note this dataset is only a few MB in size so we read it all into RAM at once\n",
    "#For large datasets (>4GB) we would read from disk in chunks\n",
    "\n",
    "print(\"Total number of questions: {}\".format(len(data)))\n",
    "display(data.head())"
   ]
  },
  {
   "cell_type": "markdown",
   "metadata": {},
   "source": [
    "*^first few rows of the pandas DataFrame.*"
   ]
  },
  {
   "cell_type": "markdown",
   "metadata": {},
   "source": [
    "## Part 2: Pre-process data"
   ]
  },
  {
   "cell_type": "markdown",
   "metadata": {},
   "source": [
    "### Extract list of questions\n",
    "\n",
    "The column that we care about for implementing our similarity search is the questions column.\n",
    "\n",
    "We will extract that from the Pandas DataFrame and convert it to a built-in python list of questions.\n",
    "\n",
    "To keep with NLP parlance we will refer to each question as a 'document'. The list of documents is our 'corpus'.\n"
   ]
  },
  {
   "cell_type": "code",
   "execution_count": 3,
   "metadata": {
    "collapsed": false
   },
   "outputs": [
    {
     "data": {
      "text/plain": [
       "'Does your company (you) have an Information Security Policy document that is approved by management and published and communicated to all employees, contractors, temporary personnel, and relevant external parties?'"
      ]
     },
     "execution_count": 3,
     "metadata": {},
     "output_type": "execute_result"
    }
   ],
   "source": [
    "documents = data['question'].tolist()\n",
    "documents[0] "
   ]
  },
  {
   "cell_type": "markdown",
   "metadata": {},
   "source": [
    "*^the first document (question) in our corpus (list of questions)*"
   ]
  },
  {
   "cell_type": "markdown",
   "metadata": {},
   "source": [
    "###  Remove punctuation and make case insensitive\n",
    "\n",
    "In NLP parlance stopwords are \"low information\" words (e.g. at, that, him etc...)"
   ]
  },
  {
   "cell_type": "code",
   "execution_count": 4,
   "metadata": {
    "collapsed": false
   },
   "outputs": [
    {
     "data": {
      "text/plain": [
       "u'does your company you have an information security policy document that is approved by management and published and communicated to all employees contractors temporary personnel and relevant external parties'"
      ]
     },
     "execution_count": 4,
     "metadata": {},
     "output_type": "execute_result"
    }
   ],
   "source": [
    "import string\n",
    "\n",
    "documents_nopunc = [unicode(document.lower().translate(None, string.punctuation),errors='replace')\n",
    "             for document in documents] #changing to unicode to avoid NLTK conflicts later\n",
    "documents_nopunc[0]"
   ]
  },
  {
   "cell_type": "markdown",
   "metadata": {},
   "source": [
    "*^document is now lower case and without punctuation*"
   ]
  },
  {
   "cell_type": "markdown",
   "metadata": {},
   "source": [
    "###  Remove stopwords\n",
    "\n",
    "In NLP parlance stopwords are \"low information\" words (e.g. at, that, him etc...)"
   ]
  },
  {
   "cell_type": "code",
   "execution_count": 5,
   "metadata": {
    "collapsed": false
   },
   "outputs": [
    {
     "data": {
      "text/plain": [
       "[u'company',\n",
       " u'information',\n",
       " u'security',\n",
       " u'policy',\n",
       " u'document',\n",
       " u'approved',\n",
       " u'management',\n",
       " u'published',\n",
       " u'communicated',\n",
       " u'employees',\n",
       " u'contractors',\n",
       " u'temporary',\n",
       " u'personnel',\n",
       " u'relevant',\n",
       " u'external',\n",
       " u'parties']"
      ]
     },
     "execution_count": 5,
     "metadata": {},
     "output_type": "execute_result"
    }
   ],
   "source": [
    "import nltk #natural language toolkit\n",
    "\n",
    "#if you get an error syaing 'corpora/stopwords' not found,\n",
    "    #uncomment the below line and follow the prompts to download the corpus\n",
    "#nltk.download()\n",
    "\n",
    "stopwords = nltk.corpus.stopwords.words(\"english\") #As of 10-22-2016 there were 153 stopwords\n",
    "\n",
    "texts = [[word for word in document.split() if word not in stopwords]\n",
    "         for document in documents_nopunc] #text is now a list of lists\n",
    "texts[0]"
   ]
  },
  {
   "cell_type": "markdown",
   "metadata": {},
   "source": [
    "*^the first document after tokenizing and removing stopwords* "
   ]
  },
  {
   "cell_type": "markdown",
   "metadata": {},
   "source": [
    "### Stem the text\n",
    "\n",
    "Stemming means reducing words to their root (e.g running -> run)"
   ]
  },
  {
   "cell_type": "code",
   "execution_count": 6,
   "metadata": {
    "collapsed": false
   },
   "outputs": [
    {
     "data": {
      "text/plain": [
       "[u'compani',\n",
       " u'inform',\n",
       " u'secur',\n",
       " u'polici',\n",
       " u'document',\n",
       " u'approv',\n",
       " u'manag',\n",
       " u'publish',\n",
       " u'communic',\n",
       " u'employe',\n",
       " u'contractor',\n",
       " u'temporari',\n",
       " u'personnel',\n",
       " u'relev',\n",
       " u'extern',\n",
       " u'parti']"
      ]
     },
     "execution_count": 6,
     "metadata": {},
     "output_type": "execute_result"
    }
   ],
   "source": [
    "stemmer = nltk.stem.snowball.SnowballStemmer(\"english\")\n",
    "texts = [[stemmer.stem(word) for word in text] for text in texts]\n",
    "texts[0]"
   ]
  },
  {
   "cell_type": "markdown",
   "metadata": {},
   "source": [
    "*^the first document after stemming. pre-processing complete!* "
   ]
  },
  {
   "cell_type": "markdown",
   "metadata": {
    "collapsed": true
   },
   "source": [
    "## Part 3: Vector Representation\n",
    "\n",
    "In order to do any computation on these words, we need a numeric representation of the words called a vector.\n",
    "\n",
    "We will use a library called gensim to generate vector representations of each document (RFI question) in our corpus\n",
    "\n",
    "The simplest vector representation of a document is called \"bag-of-words\" and it is simply a frequency count of the words in the document. \n",
    "\n",
    "First we will generate a dictionary of the words in the corpus"
   ]
  },
  {
   "cell_type": "code",
   "execution_count": 7,
   "metadata": {
    "collapsed": false
   },
   "outputs": [
    {
     "name": "stderr",
     "output_type": "stream",
     "text": [
      "2017-03-06 15:19:34,364 : INFO : 'pattern' package not found; tag filters are not available for English\n",
      "2017-03-06 15:19:34,386 : INFO : adding document #0 to Dictionary(0 unique tokens: [])\n",
      "2017-03-06 15:19:34,529 : INFO : built Dictionary(4213 unique tokens: [u'osdbappetc', u'leveragesupport', u'profici', u'untrust', u'ansibl']...) from 4927 documents (total 58373 corpus positions)\n"
     ]
    },
    {
     "name": "stdout",
     "output_type": "stream",
     "text": [
      "Dictionary(4213 unique tokens: [u'osdbappetc', u'leveragesupport', u'profici', u'untrust', u'ansibl']...)\n"
     ]
    }
   ],
   "source": [
    "from gensim import corpora\n",
    "\n",
    "#first count unique words\n",
    "dictionary = corpora.Dictionary(texts)\n",
    "print(dictionary) "
   ]
  },
  {
   "cell_type": "markdown",
   "metadata": {},
   "source": [
    "*^count of how many unique words are in the corpus. This will also be the length of our vector representation.*"
   ]
  },
  {
   "cell_type": "markdown",
   "metadata": {},
   "source": [
    "### Generate bag-of-words vector representations of the documents"
   ]
  },
  {
   "cell_type": "code",
   "execution_count": 8,
   "metadata": {
    "collapsed": false
   },
   "outputs": [
    {
     "data": {
      "text/plain": [
       "[(17, 1), (103, 1), (275, 1), (298, 1), (311, 2), (673, 1), (888, 1), (891, 1)]"
      ]
     },
     "execution_count": 8,
     "metadata": {},
     "output_type": "execute_result"
    }
   ],
   "source": [
    "corpus_bow = [dictionary.doc2bow(text) for text in texts]\n",
    "corpus_bow[300]"
   ]
  },
  {
   "cell_type": "markdown",
   "metadata": {},
   "source": [
    "*^the bag of words vector representation of the document with index 300*"
   ]
  },
  {
   "cell_type": "markdown",
   "metadata": {},
   "source": [
    "#### A note on how to interpret a bag of words vector representation\n",
    "\n",
    "Take the vector representation: [(4,2),(3003,1)]\n",
    "\n",
    "This means the word in the dictionary with id:4 appears 2 times in the document, and the word in the dictionarry with id:3003 appeared once. No other words in our dictionary appeared in the document. "
   ]
  },
  {
   "cell_type": "markdown",
   "metadata": {},
   "source": [
    "### Generate Tf-Idf vector representations\n",
    "\n",
    "Now we have a vector representation that we can do computation with!\n",
    "\n",
    "However this representation is pretty dumb.\n",
    "\n",
    "For one thing it treats all words as equally valuable. For another it ignores any context or relationship b/w words.\n",
    "\n",
    "A representation that understands context is a very active area of NLP research. \n",
    "\n",
    "However we can address the first issue easily using a technique called \"term frequency inverse document frequency\", Tf-Idf for short. Tf-Idf simply counts the number of occurences of each word in the corpus and weights the more rare words higher."
   ]
  },
  {
   "cell_type": "code",
   "execution_count": 9,
   "metadata": {
    "collapsed": false
   },
   "outputs": [
    {
     "name": "stderr",
     "output_type": "stream",
     "text": [
      "2017-03-06 15:19:34,703 : INFO : collecting document frequencies\n",
      "2017-03-06 15:19:34,704 : INFO : PROGRESS: processing document #0\n",
      "2017-03-06 15:19:34,737 : INFO : calculating IDF weights for 4927 documents and 4212 features (52998 matrix non-zeros)\n"
     ]
    },
    {
     "data": {
      "text/plain": [
       "[(17, 0.10911823407392553),\n",
       " (103, 0.10264638952738894),\n",
       " (275, 0.20675534930899012),\n",
       " (298, 0.28208901511763435),\n",
       " (311, 0.6922670284752578),\n",
       " (673, 0.24396783852207624),\n",
       " (888, 0.33049484641040283),\n",
       " (891, 0.45525174831155446)]"
      ]
     },
     "execution_count": 9,
     "metadata": {},
     "output_type": "execute_result"
    }
   ],
   "source": [
    "from gensim import models\n",
    "\n",
    "tfidf = models.TfidfModel(corpus_bow) #initialize model\n",
    "corpus_tfidf = tfidf[corpus_bow]\n",
    "corpus_tfidf[300]"
   ]
  },
  {
   "cell_type": "markdown",
   "metadata": {},
   "source": [
    "*^the tf-idf vector representation of the document with idex 300* \n",
    "\n",
    "Note the dictionary words are the same but the relative weigthings are quite different.\n",
    "\n",
    "For example word:887 is weighted four times more than word:102, even though they both appear the same amount of times in the document (once). Let's see what these words actually are"
   ]
  },
  {
   "cell_type": "code",
   "execution_count": 10,
   "metadata": {
    "collapsed": false
   },
   "outputs": [
    {
     "name": "stdout",
     "output_type": "stream",
     "text": [
      "Word 102: identifyfil\n",
      "Word 887: passwordpin\n"
     ]
    }
   ],
   "source": [
    "print(\"Word 102: {}\".format(dictionary[102]))\n",
    "print(\"Word 887: {}\".format(dictionary[887]))"
   ]
  },
  {
   "cell_type": "markdown",
   "metadata": {},
   "source": [
    "*^this makes sense as \"data\" is a very common word in our corpus and \"companyassign\" is rare*"
   ]
  },
  {
   "cell_type": "markdown",
   "metadata": {},
   "source": [
    "## Part 4: Generate similarity indexes"
   ]
  },
  {
   "cell_type": "markdown",
   "metadata": {},
   "source": [
    "For comparison's sake we will build indexes for both our vector representations: bag of words and tf-idf"
   ]
  },
  {
   "cell_type": "code",
   "execution_count": 11,
   "metadata": {
    "collapsed": false
   },
   "outputs": [
    {
     "name": "stderr",
     "output_type": "stream",
     "text": [
      "2017-03-06 15:19:34,778 : WARNING : scanning corpus to determine the number of features (consider setting `num_features` explicitly)\n",
      "2017-03-06 15:19:34,829 : INFO : creating matrix with 4927 documents and 4213 features\n",
      "2017-03-06 15:19:35,041 : WARNING : scanning corpus to determine the number of features (consider setting `num_features` explicitly)\n",
      "2017-03-06 15:19:35,175 : INFO : creating matrix with 4927 documents and 4213 features\n"
     ]
    }
   ],
   "source": [
    "from gensim import similarities\n",
    "\n",
    "index_bow = similarities.MatrixSimilarity(corpus_bow)\n",
    "index_tfidf = similarities.MatrixSimilarity(corpus_tfidf)"
   ]
  },
  {
   "cell_type": "markdown",
   "metadata": {},
   "source": [
    "## Part 5: Build vector representations of our input question"
   ]
  },
  {
   "cell_type": "markdown",
   "metadata": {},
   "source": [
    "### Input Question \n",
    "Input any RFI question here. Play with it and try your own!"
   ]
  },
  {
   "cell_type": "code",
   "execution_count": 12,
   "metadata": {
    "collapsed": true
   },
   "outputs": [],
   "source": [
    "question = \"Do you support IPv6?\"\n",
    "#question = \"Describe your ISO compliance\""
   ]
  },
  {
   "cell_type": "markdown",
   "metadata": {},
   "source": [
    "### Pre-process input question\n",
    "\n",
    "To build a comparable vector representation we must do all the same pre-processing on our input question that we did on our corpus.\n",
    "\n",
    "Here I will consolidate those steps into a single function I can pass an input question to."
   ]
  },
  {
   "cell_type": "code",
   "execution_count": 13,
   "metadata": {
    "collapsed": false
   },
   "outputs": [
    {
     "data": {
      "text/plain": [
       "[u'support', u'ipv6']"
      ]
     },
     "execution_count": 13,
     "metadata": {},
     "output_type": "execute_result"
    }
   ],
   "source": [
    "def normalize(text):\n",
    "    text = unicode(text.lower().translate(None, string.punctuation),errors='replace')\n",
    "    text = [word for word in text.split() if word not in stopwords]\n",
    "    text = [stemmer.stem(word) for word in text]\n",
    "    return text\n",
    "\n",
    "question_normalized = normalize(question)\n",
    "question_normalized"
   ]
  },
  {
   "cell_type": "markdown",
   "metadata": {},
   "source": [
    "### Generate input question vectors"
   ]
  },
  {
   "cell_type": "code",
   "execution_count": 14,
   "metadata": {
    "collapsed": false
   },
   "outputs": [
    {
     "name": "stdout",
     "output_type": "stream",
     "text": [
      "Bag of words:\n",
      "[(71, 1), (2520, 1)]\n",
      "Tf-Idf:\n",
      "[(71, 0.2890904017817321), (2520, 0.9573018017311348)]\n"
     ]
    }
   ],
   "source": [
    "question_bow = dictionary.doc2bow(question_normalized)\n",
    "question_tfidf = tfidf[question_bow]\n",
    "\n",
    "print(\"Bag of words:\\n{}\".format(question_bow))\n",
    "print(\"Tf-Idf:\\n{}\".format(question_tfidf))"
   ]
  },
  {
   "cell_type": "markdown",
   "metadata": {},
   "source": [
    "## Part 6: Execute similarity search"
   ]
  },
  {
   "cell_type": "markdown",
   "metadata": {},
   "source": [
    "Now that we have a representation of our search question in the same vector space as our corpus documents, we can calculate cosine similarity.\n",
    "\n",
    "Cosine similarity referes to the cosine of the angle between two vectors. It will be between 1 and -1"
   ]
  },
  {
   "cell_type": "markdown",
   "metadata": {},
   "source": [
    "### Tf-Idf Results"
   ]
  },
  {
   "cell_type": "code",
   "execution_count": 15,
   "metadata": {
    "collapsed": false
   },
   "outputs": [
    {
     "name": "stdout",
     "output_type": "stream",
     "text": [
      "Similarity Score: 0.710563600063\n"
     ]
    },
    {
     "data": {
      "text/html": [
       "<div>\n",
       "<table border=\"1\" class=\"dataframe\">\n",
       "  <thead>\n",
       "    <tr style=\"text-align: right;\">\n",
       "      <th></th>\n",
       "      <th>1958</th>\n",
       "    </tr>\n",
       "  </thead>\n",
       "  <tbody>\n",
       "    <tr>\n",
       "      <th>question</th>\n",
       "      <td>IPv6 and IPv4 Support Access</td>\n",
       "    </tr>\n",
       "    <tr>\n",
       "      <th>answer</th>\n",
       "      <td>Y - IPv4 is supported and IPv6 is supported for select consumer services.</td>\n",
       "    </tr>\n",
       "    <tr>\n",
       "      <th>origin</th>\n",
       "      <td>Foot Locker</td>\n",
       "    </tr>\n",
       "    <tr>\n",
       "      <th>date</th>\n",
       "      <td>2016-07-01</td>\n",
       "    </tr>\n",
       "    <tr>\n",
       "      <th>url</th>\n",
       "      <td>https://docs.google.com/spreadsheets/d/1AWGCQU51Rw-zmO7UEkzR64J-W5G392itY07VWPRsuyI</td>\n",
       "    </tr>\n",
       "  </tbody>\n",
       "</table>\n",
       "</div>"
      ],
      "text/plain": [
       "                                                                                         1958\n",
       "question  IPv6 and IPv4 Support Access                                                       \n",
       "answer    Y - IPv4 is supported and IPv6 is supported for select consumer services.          \n",
       "origin    Foot Locker                                                                        \n",
       "date      2016-07-01                                                                         \n",
       "url       https://docs.google.com/spreadsheets/d/1AWGCQU51Rw-zmO7UEkzR64J-W5G392itY07VWPRsuyI"
      ]
     },
     "metadata": {},
     "output_type": "display_data"
    },
    {
     "name": "stdout",
     "output_type": "stream",
     "text": [
      "Similarity Score: 0.482242643833\n"
     ]
    },
    {
     "data": {
      "text/html": [
       "<div>\n",
       "<table border=\"1\" class=\"dataframe\">\n",
       "  <thead>\n",
       "    <tr style=\"text-align: right;\">\n",
       "      <th></th>\n",
       "      <th>2277</th>\n",
       "    </tr>\n",
       "  </thead>\n",
       "  <tbody>\n",
       "    <tr>\n",
       "      <th>question</th>\n",
       "      <td>Simultaneous IPv4 and IPv6 utilization where necessary</td>\n",
       "    </tr>\n",
       "    <tr>\n",
       "      <th>answer</th>\n",
       "      <td>[Google] Google Compute Engine currently only supports IPv4.</td>\n",
       "    </tr>\n",
       "    <tr>\n",
       "      <th>origin</th>\n",
       "      <td>Mayo</td>\n",
       "    </tr>\n",
       "    <tr>\n",
       "      <th>date</th>\n",
       "      <td>2015-07-01</td>\n",
       "    </tr>\n",
       "    <tr>\n",
       "      <th>url</th>\n",
       "      <td>https://docs.google.com/document/d/1u8eCTx7yeuamnEndpS65KgvjRo1aZK0ODj6CwlYuAPQ</td>\n",
       "    </tr>\n",
       "  </tbody>\n",
       "</table>\n",
       "</div>"
      ],
      "text/plain": [
       "                                                                                     2277\n",
       "question  Simultaneous IPv4 and IPv6 utilization where necessary                         \n",
       "answer    [Google] Google Compute Engine currently only supports IPv4.                   \n",
       "origin    Mayo                                                                           \n",
       "date      2015-07-01                                                                     \n",
       "url       https://docs.google.com/document/d/1u8eCTx7yeuamnEndpS65KgvjRo1aZK0ODj6CwlYuAPQ"
      ]
     },
     "metadata": {},
     "output_type": "display_data"
    },
    {
     "name": "stdout",
     "output_type": "stream",
     "text": [
      "Similarity Score: 0.289090394974\n"
     ]
    },
    {
     "data": {
      "text/html": [
       "<div>\n",
       "<table border=\"1\" class=\"dataframe\">\n",
       "  <thead>\n",
       "    <tr style=\"text-align: right;\">\n",
       "      <th></th>\n",
       "      <th>1985</th>\n",
       "    </tr>\n",
       "  </thead>\n",
       "  <tbody>\n",
       "    <tr>\n",
       "      <th>question</th>\n",
       "      <td>Support</td>\n",
       "    </tr>\n",
       "    <tr>\n",
       "      <th>answer</th>\n",
       "      <td>Y- Google internal support offered.  Link to support options can be found here: https://cloud.google.com/support/</td>\n",
       "    </tr>\n",
       "    <tr>\n",
       "      <th>origin</th>\n",
       "      <td>Foot Locker</td>\n",
       "    </tr>\n",
       "    <tr>\n",
       "      <th>date</th>\n",
       "      <td>2016-07-01</td>\n",
       "    </tr>\n",
       "    <tr>\n",
       "      <th>url</th>\n",
       "      <td>https://docs.google.com/spreadsheets/d/1AWGCQU51Rw-zmO7UEkzR64J-W5G392itY07VWPRsuyI</td>\n",
       "    </tr>\n",
       "  </tbody>\n",
       "</table>\n",
       "</div>"
      ],
      "text/plain": [
       "                                                                                                                       1985\n",
       "question  Support                                                                                                          \n",
       "answer    Y- Google internal support offered.  Link to support options can be found here: https://cloud.google.com/support/\n",
       "origin    Foot Locker                                                                                                      \n",
       "date      2016-07-01                                                                                                       \n",
       "url       https://docs.google.com/spreadsheets/d/1AWGCQU51Rw-zmO7UEkzR64J-W5G392itY07VWPRsuyI                              "
      ]
     },
     "metadata": {},
     "output_type": "display_data"
    }
   ],
   "source": [
    "def display_sims(sims,number_of_results):\n",
    "    #sort results\n",
    "    sims = sorted(enumerate(sims), key=lambda item: -item[1])[:number_of_results]\n",
    "    \n",
    "    #display\n",
    "    for sim in sims:\n",
    "        print(\"Similarity Score: {}\".format(sim[1]))\n",
    "        display(data.loc[sim[0]].to_frame().drop(['id','category']))\n",
    "        \n",
    "display_sims(index_tfidf[question_tfidf],3)"
   ]
  },
  {
   "cell_type": "markdown",
   "metadata": {},
   "source": [
    "### Bag of words results\n",
    "\n",
    "You can execute for academic comparison. These results are expected to be bad."
   ]
  },
  {
   "cell_type": "code",
   "execution_count": 16,
   "metadata": {
    "collapsed": false
   },
   "outputs": [
    {
     "name": "stdout",
     "output_type": "stream",
     "text": [
      "Similarity Score: 0.707106769085\n"
     ]
    },
    {
     "data": {
      "text/html": [
       "<div>\n",
       "<table border=\"1\" class=\"dataframe\">\n",
       "  <thead>\n",
       "    <tr style=\"text-align: right;\">\n",
       "      <th></th>\n",
       "      <th>1958</th>\n",
       "    </tr>\n",
       "  </thead>\n",
       "  <tbody>\n",
       "    <tr>\n",
       "      <th>question</th>\n",
       "      <td>IPv6 and IPv4 Support Access</td>\n",
       "    </tr>\n",
       "    <tr>\n",
       "      <th>answer</th>\n",
       "      <td>Y - IPv4 is supported and IPv6 is supported for select consumer services.</td>\n",
       "    </tr>\n",
       "    <tr>\n",
       "      <th>origin</th>\n",
       "      <td>Foot Locker</td>\n",
       "    </tr>\n",
       "    <tr>\n",
       "      <th>date</th>\n",
       "      <td>2016-07-01</td>\n",
       "    </tr>\n",
       "    <tr>\n",
       "      <th>url</th>\n",
       "      <td>https://docs.google.com/spreadsheets/d/1AWGCQU51Rw-zmO7UEkzR64J-W5G392itY07VWPRsuyI</td>\n",
       "    </tr>\n",
       "  </tbody>\n",
       "</table>\n",
       "</div>"
      ],
      "text/plain": [
       "                                                                                         1958\n",
       "question  IPv6 and IPv4 Support Access                                                       \n",
       "answer    Y - IPv4 is supported and IPv6 is supported for select consumer services.          \n",
       "origin    Foot Locker                                                                        \n",
       "date      2016-07-01                                                                         \n",
       "url       https://docs.google.com/spreadsheets/d/1AWGCQU51Rw-zmO7UEkzR64J-W5G392itY07VWPRsuyI"
      ]
     },
     "metadata": {},
     "output_type": "display_data"
    },
    {
     "name": "stdout",
     "output_type": "stream",
     "text": [
      "Similarity Score: 0.707106769085\n"
     ]
    },
    {
     "data": {
      "text/html": [
       "<div>\n",
       "<table border=\"1\" class=\"dataframe\">\n",
       "  <thead>\n",
       "    <tr style=\"text-align: right;\">\n",
       "      <th></th>\n",
       "      <th>1985</th>\n",
       "    </tr>\n",
       "  </thead>\n",
       "  <tbody>\n",
       "    <tr>\n",
       "      <th>question</th>\n",
       "      <td>Support</td>\n",
       "    </tr>\n",
       "    <tr>\n",
       "      <th>answer</th>\n",
       "      <td>Y- Google internal support offered.  Link to support options can be found here: https://cloud.google.com/support/</td>\n",
       "    </tr>\n",
       "    <tr>\n",
       "      <th>origin</th>\n",
       "      <td>Foot Locker</td>\n",
       "    </tr>\n",
       "    <tr>\n",
       "      <th>date</th>\n",
       "      <td>2016-07-01</td>\n",
       "    </tr>\n",
       "    <tr>\n",
       "      <th>url</th>\n",
       "      <td>https://docs.google.com/spreadsheets/d/1AWGCQU51Rw-zmO7UEkzR64J-W5G392itY07VWPRsuyI</td>\n",
       "    </tr>\n",
       "  </tbody>\n",
       "</table>\n",
       "</div>"
      ],
      "text/plain": [
       "                                                                                                                       1985\n",
       "question  Support                                                                                                          \n",
       "answer    Y- Google internal support offered.  Link to support options can be found here: https://cloud.google.com/support/\n",
       "origin    Foot Locker                                                                                                      \n",
       "date      2016-07-01                                                                                                       \n",
       "url       https://docs.google.com/spreadsheets/d/1AWGCQU51Rw-zmO7UEkzR64J-W5G392itY07VWPRsuyI                              "
      ]
     },
     "metadata": {},
     "output_type": "display_data"
    },
    {
     "name": "stdout",
     "output_type": "stream",
     "text": [
      "Similarity Score: 0.577350258827\n"
     ]
    },
    {
     "data": {
      "text/html": [
       "<div>\n",
       "<table border=\"1\" class=\"dataframe\">\n",
       "  <thead>\n",
       "    <tr style=\"text-align: right;\">\n",
       "      <th></th>\n",
       "      <th>4100</th>\n",
       "    </tr>\n",
       "  </thead>\n",
       "  <tbody>\n",
       "    <tr>\n",
       "      <th>question</th>\n",
       "      <td>Is SFTP supported with your solution. If not, when it will it be supported?</td>\n",
       "    </tr>\n",
       "    <tr>\n",
       "      <th>answer</th>\n",
       "      <td>Yes</td>\n",
       "    </tr>\n",
       "    <tr>\n",
       "      <th>origin</th>\n",
       "      <td>Pfizer Cloud Storage</td>\n",
       "    </tr>\n",
       "    <tr>\n",
       "      <th>date</th>\n",
       "      <td>2015-12-01</td>\n",
       "    </tr>\n",
       "    <tr>\n",
       "      <th>url</th>\n",
       "      <td>https://docs.google.com/spreadsheets/d/1vYWxHnTsQmAtWK750m22xeLmsmYzirhcFUDJUd_zuXY</td>\n",
       "    </tr>\n",
       "  </tbody>\n",
       "</table>\n",
       "</div>"
      ],
      "text/plain": [
       "                                                                                         4100\n",
       "question  Is SFTP supported with your solution. If not, when it will it be supported?        \n",
       "answer    Yes                                                                                \n",
       "origin    Pfizer Cloud Storage                                                               \n",
       "date      2015-12-01                                                                         \n",
       "url       https://docs.google.com/spreadsheets/d/1vYWxHnTsQmAtWK750m22xeLmsmYzirhcFUDJUd_zuXY"
      ]
     },
     "metadata": {},
     "output_type": "display_data"
    }
   ],
   "source": [
    "display_sims(index_bow[question_bow],3)"
   ]
  },
  {
   "cell_type": "code",
   "execution_count": null,
   "metadata": {
    "collapsed": true
   },
   "outputs": [],
   "source": []
  }
 ],
 "metadata": {
  "kernelspec": {
   "display_name": "Python [conda env:cosine-similarity]",
   "language": "python",
   "name": "conda-env-cosine-similarity-py"
  },
  "language_info": {
   "codemirror_mode": {
    "name": "ipython",
    "version": 2
   },
   "file_extension": ".py",
   "mimetype": "text/x-python",
   "name": "python",
   "nbconvert_exporter": "python",
   "pygments_lexer": "ipython2",
   "version": "2.7.13"
  }
 },
 "nbformat": 4,
 "nbformat_minor": 0
}
